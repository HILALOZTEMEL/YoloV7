{
  "nbformat": 4,
  "nbformat_minor": 0,
  "metadata": {
    "colab": {
      "provenance": [],
      "collapsed_sections": []
    },
    "kernelspec": {
      "name": "python3",
      "display_name": "Python 3"
    },
    "language_info": {
      "name": "python"
    }
  },
  "cells": [
    {
      "cell_type": "markdown",
      "source": [
        "https://www.youtube.com/watch?v=_fXABNYlZhY"
      ],
      "metadata": {
        "id": "PMwjXJNr6IsA"
      }
    },
    {
      "cell_type": "markdown",
      "source": [
        "Drive'a Bağlanma Kodu"
      ],
      "metadata": {
        "id": "oT2oaevc6c-U"
      }
    },
    {
      "cell_type": "code",
      "source": [
        "from google.colab import drive\n",
        "drive.mount('/content/gdrive')"
      ],
      "metadata": {
        "colab": {
          "base_uri": "https://localhost:8080/"
        },
        "id": "B2-oRUGd6O3A",
        "outputId": "2ced67c8-1117-4022-ea07-32768dce41aa"
      },
      "execution_count": 1,
      "outputs": [
        {
          "output_type": "stream",
          "name": "stdout",
          "text": [
            "Mounted at /content/gdrive\n"
          ]
        }
      ]
    },
    {
      "cell_type": "markdown",
      "source": [
        "Drive içinde belirlenen dosya yoluna gitme"
      ],
      "metadata": {
        "id": "yx748g6W6h1A"
      }
    },
    {
      "cell_type": "code",
      "source": [
        "%cd /content/gdrive/MyDrive"
      ],
      "metadata": {
        "colab": {
          "base_uri": "https://localhost:8080/"
        },
        "id": "Lv3WgUL26cG_",
        "outputId": "4ca9bc57-1fbf-40e8-80ed-6faa8094fbf6"
      },
      "execution_count": 2,
      "outputs": [
        {
          "output_type": "stream",
          "name": "stdout",
          "text": [
            "/content/gdrive/MyDrive\n"
          ]
        }
      ]
    },
    {
      "cell_type": "markdown",
      "source": [
        "# Create the Directories and Clone offical YoloV7 Repo"
      ],
      "metadata": {
        "id": "2nnzfFLM7IxA"
      }
    },
    {
      "cell_type": "code",
      "source": [
        "import os\n",
        "\n",
        "if not os.path.isdir(\"TheCodingBug\"):\n",
        "  os.makedirs(\"TheCodingBug\")"
      ],
      "metadata": {
        "id": "A-O_DA3L7Arl"
      },
      "execution_count": 5,
      "outputs": []
    },
    {
      "cell_type": "code",
      "source": [
        "%cd TheCodingBug"
      ],
      "metadata": {
        "colab": {
          "base_uri": "https://localhost:8080/"
        },
        "id": "vsES079g84yY",
        "outputId": "13621f2f-205b-42c5-acef-4fab6b11188d"
      },
      "execution_count": 6,
      "outputs": [
        {
          "output_type": "stream",
          "name": "stdout",
          "text": [
            "/content/gdrive/MyDrive/TheCodingBug\n"
          ]
        }
      ]
    },
    {
      "cell_type": "code",
      "source": [
        "!git clone https://github.com/WongKinYiu/yolov7.git"
      ],
      "metadata": {
        "colab": {
          "base_uri": "https://localhost:8080/"
        },
        "id": "CfPxfnL988f7",
        "outputId": "ce5bfd1b-ae03-420b-e4ea-26ecfcfc2766"
      },
      "execution_count": 7,
      "outputs": [
        {
          "output_type": "stream",
          "name": "stdout",
          "text": [
            "Cloning into 'yolov7'...\n",
            "remote: Enumerating objects: 994, done.\u001b[K\n",
            "remote: Total 994 (delta 0), reused 0 (delta 0), pack-reused 994\u001b[K\n",
            "Receiving objects: 100% (994/994), 69.70 MiB | 15.72 MiB/s, done.\n",
            "Resolving deltas: 100% (493/493), done.\n",
            "Checking out files: 100% (104/104), done.\n"
          ]
        }
      ]
    }
  ]
}